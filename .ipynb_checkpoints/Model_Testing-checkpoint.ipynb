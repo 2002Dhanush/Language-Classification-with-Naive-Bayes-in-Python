{
 "cells": [
  {
   "cell_type": "code",
   "execution_count": 7,
   "id": "e085df5d",
   "metadata": {},
   "outputs": [],
   "source": [
    "import joblib\n",
    "from helper_code import *"
   ]
  },
  {
   "cell_type": "markdown",
   "id": "2403746e",
   "metadata": {},
   "source": [
    "# Loading the model"
   ]
  },
  {
   "cell_type": "code",
   "execution_count": 8,
   "id": "be637cb6",
   "metadata": {},
   "outputs": [],
   "source": [
    "model = joblib.load('Data/Models/final_model.pkl')\n",
    "vectorizer = joblib.load('Data/Vectorizers/final_model.pkl')"
   ]
  },
  {
   "cell_type": "code",
   "execution_count": 24,
   "id": "7b984dca",
   "metadata": {},
   "outputs": [
    {
     "data": {
      "text/plain": [
       "array(['en'], dtype='<U2')"
      ]
     },
     "execution_count": 24,
     "metadata": {},
     "output_type": "execute_result"
    }
   ],
   "source": [
    "#My brother's dog barks a lot\n",
    "#Úplně první zmínky\n",
    "#že tento malý\n",
    "text = \"Good morning\"\n",
    "text = preprocess_function(text)\n",
    "text = [split_into_subwords(text)]\n",
    "text_vectorized = vectorizer.transform(text)\n",
    "model.predict(text_vectorized)"
   ]
  },
  {
   "cell_type": "code",
   "execution_count": null,
   "id": "7b9088fd",
   "metadata": {},
   "outputs": [],
   "source": []
  }
 ],
 "metadata": {
  "kernelspec": {
   "display_name": "Python 3 (ipykernel)",
   "language": "python",
   "name": "python3"
  },
  "language_info": {
   "codemirror_mode": {
    "name": "ipython",
    "version": 3
   },
   "file_extension": ".py",
   "mimetype": "text/x-python",
   "name": "python",
   "nbconvert_exporter": "python",
   "pygments_lexer": "ipython3",
   "version": "3.9.12"
  }
 },
 "nbformat": 4,
 "nbformat_minor": 5
}
