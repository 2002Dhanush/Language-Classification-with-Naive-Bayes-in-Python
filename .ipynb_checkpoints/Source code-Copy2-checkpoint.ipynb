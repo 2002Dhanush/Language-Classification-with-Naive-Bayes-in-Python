{
 "cells": [
  {
   "cell_type": "markdown",
   "metadata": {
    "ExecuteTime": {
     "end_time": "2020-02-19T11:23:20.365409Z",
     "start_time": "2020-02-19T11:23:20.354206Z"
    }
   },
   "source": [
    "# Language Classification with Naive Bayes in Python"
   ]
  },
  {
   "cell_type": "markdown",
   "metadata": {},
   "source": [
    "## Project Outline\n",
    "[**Introduction**](#intro)\n",
    "\n",
    "[**Task 1**](#task1): Exploratory Data Analysis + Visualization\n",
    "\n",
    "[**Task 2**](#task2): Data Cleaning and Preprocessing\n",
    "\n",
    "[**Task 3**](#task3): Naive Bayes Model Introduction and Training\n",
    "\n",
    "[**Task 4**](#task4): Highlighting Problems with Basic Model and Simple Fixes\n",
    "\n",
    "[**Task 5**](#task5): Advanced Approach to Further Improve Performance"
   ]
  },
  {
   "cell_type": "code",
   "execution_count": 1,
   "metadata": {},
   "outputs": [],
   "source": [
    "import matplotlib\n",
    "import matplotlib.pyplot as plt\n",
    "import string\n",
    "from collections import defaultdict\n",
    "\n",
    "from sklearn.metrics import f1_score\n",
    "from sklearn.naive_bayes import MultinomialNB\n",
    "from sklearn.feature_extraction.text import CountVectorizer\n",
    "\n",
    "import joblib\n",
    "import pickle as pkl\n",
    "from helper_code import *"
   ]
  },
  {
   "cell_type": "markdown",
   "metadata": {},
   "source": [
    "# Sample data"
   ]
  },
  {
   "cell_type": "markdown",
   "metadata": {},
   "source": [
    "## [Slovak Wikipedia Entry](https://sk.wikipedia.org/wiki/Jazveč%C3%ADk)\n",
    "Mnohí ľudia, ktorí vidia na ulici jazvečíka s podlhovastým telom vôbec nevedia o tom, že tento malý štvornohý a veľmi obľúbený spoločník je pri dobrom výcviku obratným, vynikajúcim a spoľahlivým poľovným psom. Ako poľovný pes je mnohostranne využiteľný, okrem iného ako durič na brlohárenie. Králičí jazvečík sa dokáže obratne pohybovať v králičej nore. S inými psami a deťmi si nie vždy rozumie.\n",
    "\n",
    "## [Czech Wikipedia Entry](https://cs.wikipedia.org/wiki/Jezevč%C3%ADk)\n",
    "Úplně první zmínky o psech podobných dnešním jezevčíkům nacházíme až ve Starém Egyptě, kde jsou vyobrazeni na soškách a rytinách krátkonozí psi s dlouhým hřbetem a krátkou srstí. Jednalo se ale o neustálený typ bez ustáleného jména. Další zmínky o jezevčících nacházíme až ve 14 - 15. století. Jedná se o psa, který se nejvíce podobá dnešnímu typu hladkosrstého standardního jezevčíka.\n",
    "\n",
    "\n",
    "## [English Wikipedia Entry](https://en.wikipedia.org/wiki/Dachshund)\n",
    "While classified in the hound group or scent hound group in the United States and Great Britain, the breed has its own group in the countries which belong to the Fédération Cynologique Internationale (World Canine Federation). Many dachshunds, especially the wire-haired subtype, may exhibit behavior and appearance that are similar to that of the terrier group of dogs."
   ]
  },
  {
   "cell_type": "markdown",
   "metadata": {},
   "source": [
    "<a id='task1'></a>\n",
    "# Task 1: Data Exploration and Visualization"
   ]
  },
  {
   "cell_type": "code",
   "execution_count": 2,
   "metadata": {
    "ExecuteTime": {
     "end_time": "2020-02-19T11:23:20.494486Z",
     "start_time": "2020-02-19T11:23:20.491600Z"
    }
   },
   "outputs": [],
   "source": [
    "def open_file(filename):\n",
    "    with open(filename, 'r',encoding=\"utf8\") as f:\n",
    "        data = f.readlines()\n",
    "    return data"
   ]
  },
  {
   "cell_type": "code",
   "execution_count": 3,
   "metadata": {
    "ExecuteTime": {
     "end_time": "2020-02-19T11:23:20.654712Z",
     "start_time": "2020-02-19T11:23:20.651474Z"
    }
   },
   "outputs": [],
   "source": [
    "data_raw = dict()\n",
    "data_raw['sk'] = open_file('Data/Sentences/train_sentences.sk')\n",
    "data_raw['cs'] = open_file('Data/Sentences/train_sentences.cs')\n",
    "data_raw['en'] = open_file('Data/Sentences/train_sentences.en')"
   ]
  },
  {
   "cell_type": "code",
   "execution_count": 4,
   "metadata": {},
   "outputs": [],
   "source": [
    "def show_statistics(data):\n",
    "    for language, sentences in data.items():\n",
    "        \n",
    "        number_of_sentences = 0\n",
    "        number_of_words = 0\n",
    "        number_of_unique_words = 0\n",
    "        sample_extract = ''\n",
    "        word_list = ' '.join(sentences).split()\n",
    "        number_of_sentences = len(sentences)\n",
    "        number_of_words = len(word_list)\n",
    "        number_of_unique_words = len(set(word_list))\n",
    "        sample_extract = ''.join(sentences[0].split(' ')[:7])\n",
    "        \n",
    "        print(f'Language: {language}')\n",
    "        print('-----------------------')\n",
    "        print(f'Number of sentences\\t:\\t {number_of_sentences}')\n",
    "        print(f'Number of words\\t\\t:\\t {number_of_words}')\n",
    "        print(f'Number of unique words\\t:\\t {number_of_unique_words}')\n",
    "        print(f'Sample extract\\t\\t:\\t {sample_extract}...\\n')"
   ]
  },
  {
   "cell_type": "code",
   "execution_count": 5,
   "metadata": {},
   "outputs": [
    {
     "name": "stdout",
     "output_type": "stream",
     "text": [
      "Language: sk\n",
      "-----------------------\n",
      "Number of sentences\t:\t 100\n",
      "Number of words\t\t:\t 2016\n",
      "Number of unique words\t:\t 1322\n",
      "Sample extract\t\t:\t PándeGrandesPascualjasnevysvetlil,aká...\n",
      "\n",
      "Language: cs\n",
      "-----------------------\n",
      "Number of sentences\t:\t 10\n",
      "Number of words\t\t:\t 158\n",
      "Number of unique words\t:\t 141\n",
      "Sample extract\t\t:\t Upozorňujeme,žejejímcílemješetřitpenězi...\n",
      "\n",
      "Language: en\n",
      "-----------------------\n",
      "Number of sentences\t:\t 100\n",
      "Number of words\t\t:\t 2381\n",
      "Number of unique words\t:\t 1037\n",
      "Sample extract\t\t:\t Icanunderstandyourapproachalittle...\n",
      "\n"
     ]
    }
   ],
   "source": [
    "show_statistics(data_raw)"
   ]
  },
  {
   "cell_type": "code",
   "execution_count": 6,
   "metadata": {},
   "outputs": [
    {
     "data": {
      "image/png": "[encoded data removed]",
      "text/plain": [
       "<Figure size 432x288 with 1 Axes>"
      ]
     },
     "metadata": {
      "needs_background": "light"
     },
     "output_type": "display_data"
    }
   ],
   "source": [
    "do_law_of_zipf(data_raw)"
   ]
  },
  {
   "cell_type": "markdown",
   "metadata": {},
   "source": [
    "<a id='task2'></a>\n",
    "# Task 2: Data Cleaning and Preprocessing"
   ]
  },
  {
   "cell_type": "code",
   "execution_count": 7,
   "metadata": {
    "ExecuteTime": {
     "end_time": "2020-02-19T11:23:21.346649Z",
     "start_time": "2020-02-19T11:23:21.343250Z"
    }
   },
   "outputs": [],
   "source": [
    "def preprocess(text):\n",
    "    '''\n",
    "    Removes punctuation and digits from a string, and converts all characters to lowercase. \n",
    "    Also clears all \\n and hyphens (splits hyphenated words into two words).\n",
    "    \n",
    "    '''\n",
    "        \n",
    "    preprocessed_text = text.lower().replace('-', ' ')\n",
    "    \n",
    "    translation_table = str.maketrans('\\n', ' ', string.punctuation+string.digits)\n",
    "    # the below one translates the text into based on codes in translation table\n",
    "    preprocessed_text = preprocessed_text.translate(translation_table)\n",
    "        \n",
    "    return preprocessed_text"
   ]
  },
  {
   "cell_type": "code",
   "execution_count": 8,
   "metadata": {},
   "outputs": [
    {
     "name": "stdout",
     "output_type": "stream",
     "text": [
      "{10: 32, 45: 32, 33: None, 34: None, 35: None, 36: None, 37: None, 38: None, 39: None, 40: None, 41: None, 42: None, 43: None, 44: None, 46: None, 47: None, 58: None, 59: None, 60: None, 61: None, 62: None, 63: None, 64: None, 91: None, 92: None, 93: None, 94: None, 95: None, 96: None, 123: None, 124: None, 125: None, 126: None, 48: None, 49: None, 50: None, 51: None, 52: None, 53: None, 54: None, 55: None, 56: None, 57: None} !\"#$%&'()*+,./:;<=>?@[\\]^_`{|}~\n",
      "0123456789\n"
     ]
    },
    {
     "data": {
      "text/plain": [
       "'!\"#$%&\\'()*+,-./:;<=>?@[\\\\]^_`{|}~'"
      ]
     },
     "execution_count": 8,
     "metadata": {},
     "output_type": "execute_result"
    }
   ],
   "source": [
    "punctuation_without_hyphen = ''.join([x for x in string.punctuation if x != '-'])\n",
    "translation_table = str.maketrans('\\n-', '  ', punctuation_without_hyphen+string.digits)\n",
    "\"\"\"make_trans-> makes trans table----it is a dictionary k:v-> k-old values,v-new val i.e old conver to v (k->v)\n",
    "1->source,2->dest\n",
    "1 is converted to 2\n",
    "3rd parameter is if the value is in this parameter it is converted to none\"\"\"\n",
    "print(translation_table,punctuation_without_hyphen)\n",
    "print(string.digits)\n",
    "string.punctuation"
   ]
  },
  {
   "cell_type": "code",
   "execution_count": 11,
   "metadata": {},
   "outputs": [],
   "source": [
    "\n",
    "data_preprocessed = {k: [preprocess(sentence) for sentence in v] for k, v in data_raw.items()}\n"
   ]
  },
  {
   "cell_type": "code",
   "execution_count": 12,
   "metadata": {},
   "outputs": [
    {
     "name": "stdout",
     "output_type": "stream",
     "text": [
      "raw\n",
      "Language: sk\n",
      "-----------------------\n",
      "Number of sentences\t:\t 100\n",
      "Number of words\t\t:\t 2016\n",
      "Number of unique words\t:\t 1322\n",
      "Sample extract\t\t:\t PándeGrandesPascualjasnevysvetlil,aká...\n",
      "\n",
      "Language: cs\n",
      "-----------------------\n",
      "Number of sentences\t:\t 10\n",
      "Number of words\t\t:\t 158\n",
      "Number of unique words\t:\t 141\n",
      "Sample extract\t\t:\t Upozorňujeme,žejejímcílemješetřitpenězi...\n",
      "\n",
      "Language: en\n",
      "-----------------------\n",
      "Number of sentences\t:\t 100\n",
      "Number of words\t\t:\t 2381\n",
      "Number of unique words\t:\t 1037\n",
      "Sample extract\t\t:\t Icanunderstandyourapproachalittle...\n",
      "\n",
      "\n",
      "\n",
      "\n",
      "Preprocessed\n",
      "Language: sk\n",
      "-----------------------\n",
      "Number of sentences\t:\t 100\n",
      "Number of words\t\t:\t 1996\n",
      "Number of unique words\t:\t 1207\n",
      "Sample extract\t\t:\t pándegrandespascualjasnevysvetlilaká...\n",
      "\n",
      "Language: cs\n",
      "-----------------------\n",
      "Number of sentences\t:\t 10\n",
      "Number of words\t\t:\t 155\n",
      "Number of unique words\t:\t 133\n",
      "Sample extract\t\t:\t upozorňujemežejejímcílemješetřitpenězi...\n",
      "\n",
      "Language: en\n",
      "-----------------------\n",
      "Number of sentences\t:\t 100\n",
      "Number of words\t\t:\t 2366\n",
      "Number of unique words\t:\t 904\n",
      "Sample extract\t\t:\t icanunderstandyourapproachalittle...\n",
      "\n"
     ]
    }
   ],
   "source": [
    "print('raw')\n",
    "show_statistics(data_raw)\n",
    "print('\\n\\n')\n",
    "print('Preprocessed')\n",
    "show_statistics(data_preprocessed)"
   ]
  },
  {
   "cell_type": "markdown",
   "metadata": {},
   "source": [
    "<a id='task3'></a>\n",
    "# Task 3: The Naive Bayes Model"
   ]
  },
  {
   "cell_type": "markdown",
   "metadata": {},
   "source": [
    "**Bayes' Theorem**\n",
    "\n",
    "\\begin{equation}\n",
    "P(A | B)=\\frac{P(B | A) \\times P(A)}{P(B)}\n",
    "\\end{equation}\n",
    "\n",
    "Now, let's translate this theory into our specific problem. In our case, where we want to categorise a sentence `my name is Ari` into one of `sk`, `cs`, or `en`, the following are the probabilities we want to determine.\n",
    "\n",
    "\\begin{equation}\n",
    "P(\\text {sk} | \\text {my name is Ari})=\\frac{P(\\text {my name is Ari} | \\text {sk}) \\times P(\\text {sk})}{P(\\text {my name is Ari})}\n",
    "\\end{equation}\n",
    "\n",
    "\\begin{equation}\n",
    "P(\\text {cs} | \\text {my name is Ari})=\\frac{P(\\text {my name is Ari} | \\text {cs}) \\times P(\\text {cs})}{P(\\text {my name is Ari})}\n",
    "\\end{equation}\n",
    "\n",
    "\\begin{equation}\n",
    "P(\\text {en} | \\text {my name is Ari})=\\frac{P(\\text {my name is Ari} | \\text {en}) \\times P(\\text {en})}{P(\\text {my name is Ari})}\n",
    "\\end{equation}"
   ]
  },
  {
   "cell_type": "markdown",
   "metadata": {},
   "source": [
    "## Vectorizing Training Data"
   ]
  },
  {
   "cell_type": "markdown",
   "metadata": {},
   "source": [
    "|Sentence   \t||   my   \t| is \t| I \t| love \t| name \t| it \t| Ari \t|\n",
    "|-----------------\t||:------:\t|:--:\t|:-:\t|:----:\t|:----:\t|:--------:\t|:---:\t|\n",
    "| my name is Ari  \t||    1   \t|  1 \t| 0 \t|   0  \t|   1  \t|     0    \t|  1  \t|\n",
    "| I love it \t||    0   \t|  0 \t| 1 \t|   1  \t|   0  \t|     1    \t|  0  \t|"
   ]
  },
  {
   "cell_type": "code",
   "execution_count": 13,
   "metadata": {
    "ExecuteTime": {
     "end_time": "2020-02-19T11:23:22.635948Z",
     "start_time": "2020-02-19T11:23:22.631151Z"
    }
   },
   "outputs": [],
   "source": [
    "sentences_train, y_train = [], []\n",
    "\n",
    "for k, v in data_preprocessed.items():\n",
    "    for sentence in v:\n",
    "        sentences_train.append(sentence)\n",
    "        y_train.append(k)\n"
   ]
  },
  {
   "cell_type": "code",
   "execution_count": 14,
   "metadata": {
    "ExecuteTime": {
     "end_time": "2020-02-19T11:23:22.909139Z",
     "start_time": "2020-02-19T11:23:22.907106Z"
    }
   },
   "outputs": [],
   "source": [
    "#it converts the data as in above 'vectorizing traing data'\n",
    "vectorizer = CountVectorizer()"
   ]
  },
  {
   "cell_type": "code",
   "execution_count": 15,
   "metadata": {
    "ExecuteTime": {
     "end_time": "2020-02-19T11:23:23.077339Z",
     "start_time": "2020-02-19T11:23:23.067991Z"
    }
   },
   "outputs": [],
   "source": [
    "X_train = vectorizer.fit_transform(sentences_train)"
   ]
  },
  {
   "cell_type": "code",
   "execution_count": 16,
   "metadata": {
    "ExecuteTime": {
     "end_time": "2020-02-19T11:23:23.209192Z",
     "start_time": "2020-02-19T11:23:23.206135Z"
    }
   },
   "outputs": [
    {
     "data": {
      "text/plain": [
       "<210x2208 sparse matrix of type '<class 'numpy.int64'>'\n",
       "\twith 3867 stored elements in Compressed Sparse Row format>"
      ]
     },
     "execution_count": 16,
     "metadata": {},
     "output_type": "execute_result"
    }
   ],
   "source": [
    "X_train"
   ]
  },
  {
   "cell_type": "markdown",
   "metadata": {},
   "source": [
    "## Initializing Model Parameters and Training"
   ]
  },
  {
   "cell_type": "code",
   "execution_count": 17,
   "metadata": {
    "ExecuteTime": {
     "end_time": "2020-02-19T11:23:23.489747Z",
     "start_time": "2020-02-19T11:23:23.485139Z"
    }
   },
   "outputs": [
    {
     "data": {
      "text/plain": [
       "MultinomialNB()"
      ]
     },
     "execution_count": 17,
     "metadata": {},
     "output_type": "execute_result"
    }
   ],
   "source": [
    "naive_classifier = MultinomialNB()\n",
    "naive_classifier.fit(X_train, y_train)"
   ]
  },
  {
   "cell_type": "markdown",
   "metadata": {},
   "source": [
    "## Vectorizing Validation Data and Evaluating Model"
   ]
  },
  {
   "cell_type": "code",
   "execution_count": 18,
   "metadata": {
    "ExecuteTime": {
     "end_time": "2020-02-19T11:23:23.636788Z",
     "start_time": "2020-02-19T11:23:23.621292Z"
    }
   },
   "outputs": [],
   "source": [
    "data_val = dict()\n",
    "data_val['sk'] = open_file('Data/Sentences/val_sentences.sk')\n",
    "data_val['cs'] = open_file('Data/Sentences/val_sentences.cs')\n",
    "data_val['en'] = open_file('Data/Sentences/val_sentences.en')\n",
    "\n",
    "data_val_preprocessed = {k: [preprocess(sentence) for sentence in v] for k, v in data_val.items()}"
   ]
  },
  {
   "cell_type": "code",
   "execution_count": 19,
   "metadata": {
    "ExecuteTime": {
     "end_time": "2020-02-19T11:23:23.934515Z",
     "start_time": "2020-02-19T11:23:23.759224Z"
    }
   },
   "outputs": [],
   "source": [
    "sentences_val, y_val = [], []\n",
    "\n",
    "for k, v in data_val_preprocessed.items():\n",
    "    for sentence in v:\n",
    "        sentences_val.append(sentence)\n",
    "        y_val.append(k)"
   ]
  },
  {
   "cell_type": "code",
   "execution_count": 20,
   "metadata": {
    "ExecuteTime": {
     "end_time": "2020-02-19T11:23:24.185184Z",
     "start_time": "2020-02-19T11:23:23.936169Z"
    }
   },
   "outputs": [],
   "source": [
    "X_val = vectorizer.transform(sentences_val)"
   ]
  },
  {
   "cell_type": "code",
   "execution_count": 21,
   "metadata": {
    "ExecuteTime": {
     "end_time": "2020-02-19T11:23:24.190168Z",
     "start_time": "2020-02-19T11:23:24.187055Z"
    }
   },
   "outputs": [],
   "source": [
    "predictions = naive_classifier.predict(X_val)"
   ]
  },
  {
   "cell_type": "code",
   "execution_count": 22,
   "metadata": {
    "ExecuteTime": {
     "end_time": "2020-02-19T11:23:24.195726Z",
     "start_time": "2020-02-19T11:23:24.191814Z"
    }
   },
   "outputs": [
    {
     "data": {
      "image/png": "[encoded data removed]",
      "text/plain": [
       "<Figure size 360x360 with 2 Axes>"
      ]
     },
     "metadata": {
      "needs_background": "light"
     },
     "output_type": "display_data"
    }
   ],
   "source": [
    "plot_confusion_matrix(y_val, predictions, ['sk', 'cs', 'en'])"
   ]
  },
  {
   "cell_type": "code",
   "execution_count": 23,
   "metadata": {},
   "outputs": [
    {
     "data": {
      "text/plain": [
       "0.6149824401040264"
      ]
     },
     "execution_count": 23,
     "metadata": {},
     "output_type": "execute_result"
    }
   ],
   "source": [
    "f1_score(y_val, predictions, average='weighted')"
   ]
  },
  {
   "cell_type": "markdown",
   "metadata": {},
   "source": [
    "<a id='task4'></a>\n",
    "# Task 4: Simple Adjustments and Highlighting Model Shortcomings"
   ]
  },
  {
   "cell_type": "code",
   "execution_count": 26,
   "metadata": {
    "ExecuteTime": {
     "end_time": "2020-02-19T11:30:37.132532Z",
     "start_time": "2020-02-19T11:30:36.951960Z"
    }
   },
   "outputs": [
    {
     "data": {
      "image/png": "[encoded data removed]",
      "text/plain": [
       "<Figure size 360x360 with 2 Axes>"
      ]
     },
     "metadata": {
      "needs_background": "light"
     },
     "output_type": "display_data"
    }
   ],
   "source": [
    "#alpha val is for probability of word not belonging to a lang(prob=0)\n",
    "naive_classifier = MultinomialNB(alpha=0.0001)\n",
    "naive_classifier.fit(X_train, y_train)\n",
    "\n",
    "predictions = naive_classifier.predict(X_val)\n",
    "\n",
    "plot_confusion_matrix(y_val, predictions, ['sk', 'cs', 'en'])"
   ]
  },
  {
   "cell_type": "code",
   "execution_count": 27,
   "metadata": {},
   "outputs": [
    {
     "data": {
      "text/plain": [
       "0.7991160926018023"
      ]
     },
     "execution_count": 27,
     "metadata": {},
     "output_type": "execute_result"
    }
   ],
   "source": [
    "f1_score(y_val, predictions, average='weighted')"
   ]
  },
  {
   "cell_type": "markdown",
   "metadata": {},
   "source": [
    "<a id='task5'></a>\n",
    "# Task 5: Using Subwords to Shift Perspective"
   ]
  },
  {
   "cell_type": "markdown",
   "metadata": {},
   "source": [
    "**Dummy Dataset**\n",
    "\n",
    "playing ; eating ; play ; reads ; tea\n",
    "\n",
    "**Step 1**\n",
    "\n",
    "Break each word into characters\n",
    "\n",
    "playing > p l a y i n g\n",
    "\n",
    "\n",
    "**Step 2**\n",
    "\n",
    "Find common character sequences\n",
    "\n",
    "ea, ing, play\n",
    "\n",
    "**Step 3**\n",
    "\n",
    "Convert dataset using these subwords into\n",
    "\n",
    "play ing ; ea t ing ; play ; r ea d s ; t ea"
   ]
  },
  {
   "cell_type": "code",
   "execution_count": 29,
   "metadata": {
    "ExecuteTime": {
     "end_time": "2020-02-21T14:31:24.609673Z",
     "start_time": "2020-02-21T14:31:24.591140Z"
    }
   },
   "outputs": [],
   "source": [
    "# taken from https://arxiv.org/abs/1508.07909\n",
    "\n",
    "import re, collections\n",
    "def get_stats(vocab):\n",
    "    pairs = collections.defaultdict(int) \n",
    "    for word, freq in vocab.items():\n",
    "        symbols = word.split()\n",
    "        for i in range(len(symbols)-1):\n",
    "            pairs[symbols[i],symbols[i+1]] += freq \n",
    "    return pairs\n",
    "\n",
    "def merge_vocab(pair, v_in):\n",
    "    v_out = {}\n",
    "    bigram = re.escape(' '.join(pair))\n",
    "    p = re.compile(r'(?<!\\S)' + bigram + r'(?!\\S)')\n",
    "    for word in v_in:\n",
    "        w_out = p.sub(''.join(pair), word)\n",
    "        v_out[w_out] = v_in[word] \n",
    "    return v_out"
   ]
  },
  {
   "cell_type": "code",
   "execution_count": 30,
   "metadata": {
    "ExecuteTime": {
     "end_time": "2020-02-21T14:33:38.592851Z",
     "start_time": "2020-02-21T14:33:38.588298Z"
    }
   },
   "outputs": [],
   "source": [
    "def get_vocab(data):\n",
    "\n",
    "    words = []\n",
    "    for sentence in data:\n",
    "        words.extend(sentence.split())\n",
    "        \n",
    "    vocab = defaultdict(int)\n",
    "    for word in words:\n",
    "        vocab[' '.join(word)] += 1\n",
    "        \n",
    "    return vocab"
   ]
  },
  {
   "cell_type": "code",
   "execution_count": 32,
   "metadata": {
    "ExecuteTime": {
     "end_time": "2020-02-21T14:42:30.908840Z",
     "start_time": "2020-02-21T14:42:30.902323Z"
    }
   },
   "outputs": [
    {
     "data": {
      "text/plain": [
       "defaultdict(int,\n",
       "            {'p á n': 8,\n",
       "             'd e': 5,\n",
       "             'g r a n d e s': 1,\n",
       "             'p a s c u a l': 1,\n",
       "             'j a s n e': 1,\n",
       "             'v y s v e t l i l': 1,\n",
       "             'a k á': 1,\n",
       "             'j e': 31,\n",
       "             'p r i d a n á': 1,\n",
       "             'h o d n o t a': 1,\n",
       "             'd e f i n í c i e': 1,\n",
       "             't e r o r i z m u': 1,\n",
       "             'v y j a d r e n í m': 1,\n",
       "             'ž e': 43,\n",
       "             'd e f i n í c i a': 1,\n",
       "             'k t o r ú': 2,\n",
       "             's m e': 11,\n",
       "             'p o u ž í v a l i': 1,\n",
       "             'p r e d t ý m': 1,\n",
       "             'b o l a': 3,\n",
       "             'd ô l e ž i t e j š i a': 1,\n",
       "             'a l e': 6,\n",
       "             'a j': 6,\n",
       "             't ý m': 4,\n",
       "             't r v a l': 1,\n",
       "             'n a': 41,\n",
       "             'z o z n a m e': 1,\n",
       "             'p r i e s t u p k o v': 1,\n",
       "             'k e b y': 2,\n",
       "             's a': 40,\n",
       "             'n e p o k ú s i l i': 1,\n",
       "             'o': 19,\n",
       "             'n e m o ž n é': 1,\n",
       "             'a k o': 10,\n",
       "             'b y': 29,\n",
       "             'm o h l i': 5,\n",
       "             'd o s i a h n u ť': 2,\n",
       "             'z m e n u': 1,\n",
       "             'o z n á m i l': 1,\n",
       "             'b u d ú c i': 1,\n",
       "             't ý ž d e ň': 2,\n",
       "             'z ú č a s t n í': 1,\n",
       "             's c h ô d z e': 1,\n",
       "             'v ý b o r u': 1,\n",
       "             'p r e': 10,\n",
       "             'z a h r a n i č n é': 1,\n",
       "             'v e c i': 1,\n",
       "             'n i e k e d y': 1,\n",
       "             'm o h l o': 3,\n",
       "             'z d a ť': 1,\n",
       "             'i d e': 4,\n",
       "             'h r u': 1,\n",
       "             'a l e b o': 4,\n",
       "             'p o k r y t e c t v o': 1,\n",
       "             'j e j': 2,\n",
       "             'ú č e l o m': 1,\n",
       "             't i e ž': 3,\n",
       "             'i d e n t i f i k o v a ť': 1,\n",
       "             'a k é k o ľ v e k': 1,\n",
       "             's l a b é': 1,\n",
       "             'm i e s t a': 2,\n",
       "             'v': 62,\n",
       "             's y s t é m e': 1,\n",
       "             'a': 109,\n",
       "             'p r á v n e': 2,\n",
       "             'n e d o s t a t k y': 1,\n",
       "             's ú d n e j': 1,\n",
       "             's p o l u p r á c e': 2,\n",
       "             't r e s t n ý c h': 1,\n",
       "             'v e c i a c h': 1,\n",
       "             'a b y': 14,\n",
       "             'e u r ó p s k y m': 2,\n",
       "             'z á k o n o d a r c o m': 1,\n",
       "             'p o s k y t l i': 1,\n",
       "             'v š e t k y': 1,\n",
       "             'i n f o r m á c i e': 1,\n",
       "             'p o t r e b n é': 5,\n",
       "             's p r á v n e': 1,\n",
       "             'p o l i t i c k é': 1,\n",
       "             'r e g u l a č n é': 1,\n",
       "             'h o d n o t e n i e': 2,\n",
       "             'd o s i a h n u t i e': 1,\n",
       "             't o h t o': 4,\n",
       "             'c i e ľ a': 1,\n",
       "             'm i m o r i a d n e': 2,\n",
       "             'd ô l e ž i t é': 2,\n",
       "             'č l e n s k é': 2,\n",
       "             'š t á t y': 2,\n",
       "             'z a v i e d l i': 1,\n",
       "             'p r i j a t é': 1,\n",
       "             'o p a t r e n i a': 2,\n",
       "             'ú z k o': 1,\n",
       "             's p o l u p r a c o v a l i': 1,\n",
       "             'f r': 4,\n",
       "             'p a n i': 6,\n",
       "             'p r e d s e d a j ú c a': 4,\n",
       "             'p r e d s e d a': 4,\n",
       "             'b a r r o s o': 1,\n",
       "             'n á m': 2,\n",
       "             's t a n o v i l': 1,\n",
       "             'n á r o č n ý': 1,\n",
       "             'c i e ľ': 1,\n",
       "             'o b l a s t i': 5,\n",
       "             'v ý r o b y': 2,\n",
       "             'o b n o v i t e ľ n e j': 1,\n",
       "             'e n e r g i e': 1,\n",
       "             's': 15,\n",
       "             'c i e ľ o m': 2,\n",
       "             'z n í ž i ť': 1,\n",
       "             'e m i s i e': 1,\n",
       "             's k l e n í k o v ý c h': 1,\n",
       "             'p l y n o v': 1,\n",
       "             'b e z': 5,\n",
       "             't o h o': 3,\n",
       "             'b r z d i l i': 1,\n",
       "             'n a š e': 2,\n",
       "             'v y h l i a d k y': 1,\n",
       "             'r a s t': 1,\n",
       "             't á t o': 4,\n",
       "             'p o ž i a d a v k a': 1,\n",
       "             'v š a k': 6,\n",
       "             'n i e': 6,\n",
       "             'd o s t a t o č n e': 2,\n",
       "             'p r í s n e': 1,\n",
       "             'f o r m u l o v a n á': 1,\n",
       "             'p o k i a ľ': 3,\n",
       "             'v z ť a h y': 1,\n",
       "             'r u s k o m': 1,\n",
       "             's p r a v o d a j c a': 1,\n",
       "             'v á ž e n á': 3,\n",
       "             'd i s k u s i a': 1,\n",
       "             'v ý r o k y': 1,\n",
       "             'm o j i c h': 1,\n",
       "             'k o l e g o v': 2,\n",
       "             'm a': 2,\n",
       "             'e š t e': 3,\n",
       "             'v ä č š m i': 1,\n",
       "             'u t v r d i l i': 1,\n",
       "             'p r e s v e d č e n í': 1,\n",
       "             's ú': 6,\n",
       "             'p r a v i d l á': 2,\n",
       "             's i l n é': 1,\n",
       "             'p o ž i a d a v k y': 1,\n",
       "             'k t o r é': 14,\n",
       "             's t a ť': 2,\n",
       "             'p o v i n n ý m i': 1,\n",
       "             'p o t r e b n á': 1,\n",
       "             's i l n á': 1,\n",
       "             'a g e n t ú r a': 1,\n",
       "             'n e m u s í m e': 1,\n",
       "             'j u': 2,\n",
       "             'v y v o l á v a ť': 1,\n",
       "             'n á s i l n e': 1,\n",
       "             'v y d á v a n í m': 1,\n",
       "             'p r á v n y c h': 1,\n",
       "             'p r e d p i s o v': 1,\n",
       "             's p o j e n ý c h': 1,\n",
       "             'š t á t o c h': 2,\n",
       "             'a m e r i c k ý c h': 1,\n",
       "             'i c h': 3,\n",
       "             'd o s ť': 1,\n",
       "             'p r i p r a v u j e m e': 1,\n",
       "             'r ý c h l y': 1,\n",
       "             'n á v r a t': 1,\n",
       "             'k': 12,\n",
       "             'i s t ý m': 1,\n",
       "             'p o l i t i k á m': 1,\n",
       "             'p r i s p e l i': 1,\n",
       "             'k u': 3,\n",
       "             'k r í z e': 1,\n",
       "             'r o b í m e': 1,\n",
       "             't o': 88,\n",
       "             'm e n e': 1,\n",
       "             't a k z v a n e j': 1,\n",
       "             'ž i v o t a s c h o p n o s t i': 1,\n",
       "             'v e r e j n ý c h': 1,\n",
       "             'f i n a n c i í': 1,\n",
       "             'ú k o r': 1,\n",
       "             'p o t e n c i á l n e j': 1,\n",
       "             'o b n o v y': 1,\n",
       "             'k ú p n e j': 1,\n",
       "             's i l y': 1,\n",
       "             'd o m á c n o s t í': 1,\n",
       "             'd a': 1,\n",
       "             's o m': 16,\n",
       "             'ž i a d n y': 1,\n",
       "             'a n t i f e d e r a l i s t a': 1,\n",
       "             'u r á ž a j ú c e': 1,\n",
       "             'p o t u p n é': 1,\n",
       "             's e d í m e': 1,\n",
       "             's o': 5,\n",
       "             'z a l o ž e n ý m i': 1,\n",
       "             'r u k a m i': 1,\n",
       "             'd r u h ý': 1,\n",
       "             'b o d': 1,\n",
       "             'k t o r o m': 4,\n",
       "             'c h c e m': 2,\n",
       "             'h o v o r i ť': 1,\n",
       "             'o r i e n t o v a n ý': 1,\n",
       "             'v i a c': 2,\n",
       "             'b u d ú c n o s ť': 1,\n",
       "             's p r á v a': 3,\n",
       "             'd o k o n c a': 2,\n",
       "             'p r i d á v a': 1,\n",
       "             'u b e z p e č e n i e': 1,\n",
       "             'd ô v e r e': 1,\n",
       "             's a m o r e g u l a č n é': 1,\n",
       "             'p r e d n o s t i': 1,\n",
       "             't r h u': 2,\n",
       "             't v á r i': 1,\n",
       "             'v e r í': 1,\n",
       "             't o m u': 2,\n",
       "             'm ô ž e': 2,\n",
       "             'e t i c k e j š í': 1,\n",
       "             't ú t o': 2,\n",
       "             'z r a n i t e ľ n o s ť': 1,\n",
       "             'o b m e d z u j e': 1,\n",
       "             'm o ž n o': 1,\n",
       "             'p r i a m o': 1,\n",
       "             'z a s t a v u j e': 1,\n",
       "             'k o l e g i á l n y': 1,\n",
       "             's y s t é m': 2,\n",
       "             'k t o r ý': 3,\n",
       "             'p o d ľ a': 4,\n",
       "             'm ň a': 2,\n",
       "             's t á l e': 3,\n",
       "             'l e n': 4,\n",
       "             'k r o k o m': 1,\n",
       "             's p r á v n y m': 1,\n",
       "             's m e r o m': 1,\n",
       "             'r e á l n y m': 1,\n",
       "             'r i e š e n í m': 1,\n",
       "             'd ú f a m': 1,\n",
       "             'm e x i c k í': 1,\n",
       "             'z á k o n o d a r c o v i a': 1,\n",
       "             'č o s k o r o': 1,\n",
       "             'z l e p š i a': 1,\n",
       "             'v š e o b e c n ý': 1,\n",
       "             'z á k o n': 1,\n",
       "             'p r á v e': 4,\n",
       "             'ž i e n': 2,\n",
       "             'ž i v o t': 1,\n",
       "             'n á s i l i a': 2,\n",
       "             'r i a d n e': 1,\n",
       "             'v y m e d z i ť': 1,\n",
       "             'r o z l i č n é': 1,\n",
       "             'f o r m y': 2,\n",
       "             'm e c h a n i z m y': 1,\n",
       "             'u p l a t ň o v a n i a': 1,\n",
       "             'z á k o n o v': 1,\n",
       "             't o m t o': 2,\n",
       "             'd u c h u': 1,\n",
       "             'v y m e n o v a n i e': 1,\n",
       "             'o s ô b': 1,\n",
       "             'z': 15,\n",
       "             'k t o r ý c h': 2,\n",
       "             'd v o r': 2,\n",
       "             'a u d í t o r o v': 1,\n",
       "             'z l o ž e n ý': 1,\n",
       "             'm u s í': 2,\n",
       "             'r i a d i ť': 1,\n",
       "             'k r i t é r i a m i': 1,\n",
       "             's p ô s o b i l o s t i': 1,\n",
       "             'n e z á v i s l o s t i': 1,\n",
       "             'n a l i e h a v o': 1,\n",
       "             'd l h o d o b é': 1,\n",
       "             'p r o g r a m y': 1,\n",
       "             'o c h r a n u': 1,\n",
       "             's v e d k o v': 1,\n",
       "             'b o l i': 3,\n",
       "             's v e d k a m i': 1,\n",
       "             'z v y š o v a n i a': 1,\n",
       "             'c i e n': 1,\n",
       "             'u h l í k a': 1,\n",
       "             'b u d ú c n o s t i': 2,\n",
       "             's m e r o v a l i': 1,\n",
       "             'n í z k o u h l í k o v ý m': 1,\n",
       "             'i n v e s t í c i á m': 1,\n",
       "             'ú č i n n ý': 1,\n",
       "             'b o j': 1,\n",
       "             'p r o t i': 5,\n",
       "             'z m e n e': 1,\n",
       "             'k l í m y': 1,\n",
       "             'p o t r e b u j e m e': 2,\n",
       "             'k o d a n i': 1,\n",
       "             'm i n i m á l n e': 1,\n",
       "             'u ž': 1,\n",
       "             'r o k o v': 4,\n",
       "             'í r s k o': 1,\n",
       "             'r a t i f i k á c i i': 1,\n",
       "             'r o z h o d l o': 1,\n",
       "             'z á k l a d e': 2,\n",
       "             'r e f e r e n d a': 2,\n",
       "             'í r s k i': 1,\n",
       "             'o b č a n i a': 1,\n",
       "             'z m l u v u': 1,\n",
       "             'o d m i e t l i': 1,\n",
       "             'n e j a k é': 2,\n",
       "             'p l á n y': 1,\n",
       "             'z a v e d e n é': 1,\n",
       "             'm ô ž e m': 2,\n",
       "             'p o v e d a ť': 3,\n",
       "             'i b a': 1,\n",
       "             't o ľ k o': 1,\n",
       "             'b o l o': 3,\n",
       "             'o d s t r á n e n é': 1,\n",
       "             'u s t a n o v e n i e': 1,\n",
       "             'r e v í z i i': 1,\n",
       "             'h o v o r i l o': 1,\n",
       "             'p o': 4,\n",
       "             'r o k u': 4,\n",
       "             'b u d e m e': 1,\n",
       "             'm u s i e ť': 1,\n",
       "             'z n o v u': 1,\n",
       "             'o t v á r a ť': 1,\n",
       "             'p a n d o r i n u': 1,\n",
       "             's k r i n k u': 1,\n",
       "             'n a j v ä č š o m': 1,\n",
       "             'p o s t i h n u t o m': 1,\n",
       "             'č l e n s k o m': 1,\n",
       "             'š t á t e': 1,\n",
       "             'i n ý m i': 3,\n",
       "             's l o v a m i': 2,\n",
       "             'n e m e c k u': 1,\n",
       "             'v í t a m': 2,\n",
       "             'v á s': 2,\n",
       "             't e d a': 1,\n",
       "             'e u r ó p s k o m': 1,\n",
       "             'p a r l a m e n t e': 1,\n",
       "             'c e l k o v é': 1,\n",
       "             's ú č a s n e j': 1,\n",
       "             'a g a d i r s k e j': 1,\n",
       "             'd o h o d y': 3,\n",
       "             'p r i s k o r o': 1,\n",
       "             's m e r n i c a': 1,\n",
       "             'z a m e r a n á': 1,\n",
       "             'p r e d o v š e t k ý m': 2,\n",
       "             'v e ľ k ý c h': 1,\n",
       "             'd i s t r i b ú t o r o v': 1,\n",
       "             'n e b e r i e': 1,\n",
       "             'o h ľ a d': 1,\n",
       "             'v p l y v': 1,\n",
       "             'm a ť': 3,\n",
       "             'r o z p o č e t': 2,\n",
       "             'm a l ý c h': 1,\n",
       "             's t r e d n ý c h': 1,\n",
       "             'p o d n i k o v': 2,\n",
       "             'm s p': 2,\n",
       "             'v y r á b a j ú': 2,\n",
       "             'e e z': 1,\n",
       "             'n e p o n ú k a': 1,\n",
       "             'n o v é': 2,\n",
       "             'r i e š e n i a': 1,\n",
       "             'p o r o v n a n í': 1,\n",
       "             'n a r i a d e n í m': 1,\n",
       "             'a n i': 3,\n",
       "             's p r á v o u': 1,\n",
       "             'b i o i n t e l l i g e n c e': 1,\n",
       "             'k t o r e j': 3,\n",
       "             'u v á d z a': 1,\n",
       "             'r á m c i': 3,\n",
       "             'n o v é h o': 1,\n",
       "             's y s t é m u': 1,\n",
       "             'b u d ú': 2,\n",
       "             'p r a v d e p o d o b n e': 1,\n",
       "             'č e l i ť': 1,\n",
       "             'p r o b l é m o m': 1,\n",
       "             'z a r i a d e n i a': 2,\n",
       "             'l e k á r s k e h o': 1,\n",
       "             'd o h ľ a d u': 1,\n",
       "             'm o n i t o r o v a c i e': 1,\n",
       "             'ž i a d n a': 1,\n",
       "             'j a': 1,\n",
       "             't u': 2,\n",
       "             'v i d í m': 1,\n",
       "             's t a r š i u': 1,\n",
       "             'g e n e r á c i u': 1,\n",
       "             'p o l i t i k o v': 1,\n",
       "             'k t o r á': 5,\n",
       "             'l i p n e': 1,\n",
       "             'p o s t o j o c h': 1,\n",
       "             'š t ý l e': 1,\n",
       "             'c h c e': 1,\n",
       "             'r i e š i ť': 1,\n",
       "             'p r o b l é m y': 1,\n",
       "             'ú l o h y': 1,\n",
       "             'k t o r ý m': 1,\n",
       "             's v e t': 1,\n",
       "             'č e l í': 1,\n",
       "             'n a p r i e k': 2,\n",
       "             'b u d o v a n í m': 1,\n",
       "             'l o j á l n e j': 1,\n",
       "             'm e d z i i n š t i t u c i o n á l n e j': 1,\n",
       "             'r o z v i n u l a': 1,\n",
       "             'o s t a t n ý c h': 1,\n",
       "             'd v o c h': 1,\n",
       "             'd e s a ť r o č i a c h': 1,\n",
       "             'd o k á z a l i': 1,\n",
       "             'z h o d n ú ť': 1,\n",
       "             's ú b o r e': 1,\n",
       "             'p r e c h o d n ý c h': 1,\n",
       "             'o p a t r e n í': 2,\n",
       "             'u m o ž n i a': 2,\n",
       "             'r o k': 3,\n",
       "             'e f e k t í v n e': 1,\n",
       "             'f u n g o v a l': 1,\n",
       "             'z r e j m é': 1,\n",
       "             'd e m o k r a c i a': 1,\n",
       "             'u k r a j i n e': 1,\n",
       "             'p o k r a č u j e': 1,\n",
       "             'p r o c e s e': 2,\n",
       "             'k o n s o l i d á c i e': 1,\n",
       "             'k a ž d ý': 1,\n",
       "             'e u r ó p s k y': 3,\n",
       "             'o b č a n': 1,\n",
       "             'm á': 3,\n",
       "             's v o j': 2,\n",
       "             'p o d i e l': 1,\n",
       "             'z o d p o v e d n o s t i': 1,\n",
       "             'p r i': 7,\n",
       "             'z a b e z p e č e n í': 1,\n",
       "             'm e n š i n y': 1,\n",
       "             's l o b o d n e': 1,\n",
       "             'o b m e d z e n í': 1,\n",
       "             'p o u ž í v a ť': 1,\n",
       "             'm a t e r i n s k ý': 1,\n",
       "             'j a z y k': 1,\n",
       "             'v o': 3,\n",
       "             's v o j e j': 1,\n",
       "             'r o d n e j': 1,\n",
       "             'k r a j i n e': 1,\n",
       "             'c í t i l i': 1,\n",
       "             'd o m a': 1,\n",
       "             'n a p o k o n': 1,\n",
       "             'o t á z k e': 1,\n",
       "             'z d r o j o v': 3,\n",
       "             's ú h l a s í m': 1,\n",
       "             'p á n o m': 1,\n",
       "             'm a r t i n o m': 1,\n",
       "             'd o s t a t o č n é': 1,\n",
       "             'z d r o j e': 3,\n",
       "             'h o c i': 1,\n",
       "             'n e p o t r e b u j e m e': 1,\n",
       "             't e n t o': 4,\n",
       "             'k o n k r é t n y': 1,\n",
       "             'p r e d m e t': 1,\n",
       "             'e n v i r o n m e n t á l n y c h': 1,\n",
       "             'e k o n o m i c k ý c h': 1,\n",
       "             'ú č t o v': 1,\n",
       "             't e š í': 1,\n",
       "             'z a v e d i e': 1,\n",
       "             'z j e d n o d u š e n i e': 1,\n",
       "             'o p r á v n e n o s t i': 1,\n",
       "             'v ý d a v k o v': 1,\n",
       "             'r e t r o a k t í v n y m': 1,\n",
       "             'ú č i n k o m': 1,\n",
       "             'k a ž d o p á d n e': 1,\n",
       "             'p r o c e s': 2,\n",
       "             'ž i a ľ': 1,\n",
       "             's t r o s k o t a l': 1,\n",
       "             'd ô v o d u': 1,\n",
       "             'v á ž e n ý': 4,\n",
       "             'p r e d s e d a j ú c i': 3,\n",
       "             'd o m n i e v a m e': 1,\n",
       "             'z r a n i t e ľ n é': 1,\n",
       "             's k u p i n y': 2,\n",
       "             'v š e t k ý c h': 1,\n",
       "             'č l e n s k ý c h': 1,\n",
       "             'm a l i': 4,\n",
       "             'v y u ž í v a ť': 1,\n",
       "             'v ý h o d y': 2,\n",
       "             's o c i á l n e j': 1,\n",
       "             'p o m o c i': 4,\n",
       "             'r o v n o s t i': 1,\n",
       "             'p r í l e ž i t o s t í': 1,\n",
       "             'o k r e m': 1,\n",
       "             'o s o b i t n ý c h': 1,\n",
       "             'p r o g r a m o v': 1,\n",
       "             'u m o ž ň u j ú c i c h': 1,\n",
       "             'r o z v o j': 2,\n",
       "             'r e g i ó n o v': 1,\n",
       "             'p r i c h á d z a j ú': 1,\n",
       "             'e u r ó p s k a': 2,\n",
       "             'k o m i s i a': 5,\n",
       "             'n e d á v n o': 1,\n",
       "             'd o k o n č i l a': 1,\n",
       "             'p o d r o b n ý': 1,\n",
       "             'p r i e s k u m': 1,\n",
       "             'd o d r ž i a v a n i a': 1,\n",
       "             'ľ u d s k ý c h': 1,\n",
       "             'p r á v': 1,\n",
       "             's r í': 1,\n",
       "             'l a n k e': 1,\n",
       "             's t e': 3,\n",
       "             'p o u k á z a l i': 1,\n",
       "             'd ô s l e d k u': 1,\n",
       "             'c h ý b a j ú c e h o': 1,\n",
       "             'r á m c a': 1,\n",
       "             'm a n ž e l s k é': 1,\n",
       "             'p á r y': 1,\n",
       "             'b u ď': 1,\n",
       "             's n a ž i a': 2,\n",
       "             'v y h ľ a d a ť': 1,\n",
       "             'č o': 5,\n",
       "             'n a j v ý h o d n e j š i e': 1,\n",
       "             'p o s t a v e n i e': 2,\n",
       "             'p o s l e d n é': 1,\n",
       "             's l o v o': 2,\n",
       "             'd o m i n a n t n ý': 1,\n",
       "             'p a r t n e r': 1,\n",
       "             'u s i l u j e m e': 1,\n",
       "             'k o m b i n á c i u': 1,\n",
       "             'f i n a n c o v a n i a': 1,\n",
       "             'm n o ž s t v a': 1,\n",
       "             'n a j m ä': 1,\n",
       "             'c e l o š t á t n y c h': 1,\n",
       "             'r e g i o n á l n y c h': 1,\n",
       "             'e u r ó p s k e j': 4,\n",
       "             'i n v e s t i č n e j': 1,\n",
       "             'b a n k y': 1,\n",
       "             'n a o z a j': 2,\n",
       "             'v e ľ m i': 4,\n",
       "             'p o z o r n e': 1,\n",
       "             's l e d u j e': 1,\n",
       "             'p r o j e k t': 1,\n",
       "             'p l y n o v o d u': 1,\n",
       "             'n o r d': 1,\n",
       "             's t r e a m': 1,\n",
       "             'n á v r h': 2,\n",
       "             'n a r i a d e n i a': 1,\n",
       "             'v ý s l e d k o m': 1,\n",
       "             'ž i a d o s t i': 1,\n",
       "             'e u r ó p s k e h o': 2,\n",
       "             'p a r l a m e n t u': 4,\n",
       "             'u r č e n e j': 1,\n",
       "             'k o m i s i i': 1,\n",
       "             'v y t v o r e n i e': 1,\n",
       "             'p r á v n e h o': 1,\n",
       "             'z á v ä z k u': 1,\n",
       "             'p o s k y t n ú ť': 1,\n",
       "             'o b č a n o m': 1,\n",
       "             'ú d a j e': 1,\n",
       "             'e n e r g i i': 1,\n",
       "             'ú r o v n i': 1,\n",
       "             'p e r i o d i c k y': 1,\n",
       "             'p r i m e r a n ý c h': 1,\n",
       "             't e r m í n o c h': 1,\n",
       "             'm i n u l ý': 2,\n",
       "             'n a j s i l n e j š e j': 1,\n",
       "             'm a ď a r s k e j': 1,\n",
       "             'p o l i t i c k e j': 2,\n",
       "             's t r a n y': 3,\n",
       "             'f i d e s z': 1,\n",
       "             'o r b a n': 1,\n",
       "             'n á v š t e v e': 1,\n",
       "             's l o v e n s k a': 1,\n",
       "             'v y z v a l': 1,\n",
       "             'm a ď a r s k ú': 1,\n",
       "             'm e n š i n u': 1,\n",
       "             'a u t o n o m i s t i c k ý m': 1,\n",
       "             'i n i c i a t í v a m': 1,\n",
       "             'n e s p o m í n a': 2,\n",
       "             'p r o d u k t i v i t a': 1,\n",
       "             'o n a': 1,\n",
       "             'n e m á': 1,\n",
       "             'ž i a d n u': 1,\n",
       "             'p r a x': 1,\n",
       "             'm i n i s t e r s t v a': 1,\n",
       "             'z a h r a n i č n ý c h': 2,\n",
       "             'v e c í': 3,\n",
       "             'n e b o l a': 1,\n",
       "             'm i n i s t e r k o u': 1,\n",
       "             'm y s l í m': 3,\n",
       "             's i': 6,\n",
       "             'n i k d y': 1,\n",
       "             'n e p r a c o v a l a': 1,\n",
       "             'b r i g á d n i č k a': 1,\n",
       "             'c e s t o v n e j': 1,\n",
       "             'k a n c e l á r i i': 1,\n",
       "             'r o p y': 1,\n",
       "             'r i a s': 1,\n",
       "             'v y p r o d u k u j e': 1,\n",
       "             'o v e ľ a': 1,\n",
       "             'm e n š i e': 1,\n",
       "             'm n o ž s t v o': 1,\n",
       "             'c o': 1,\n",
       "             'p r e t o': 8,\n",
       "             'm a j ú': 1,\n",
       "             'r o p n é': 1,\n",
       "             's p o l o č n o s t i': 1,\n",
       "             'i n é': 1,\n",
       "             'f i r m y': 1,\n",
       "             'v e ľ k ý': 1,\n",
       "             'z á u j e m': 1,\n",
       "             'i n v e s t o v a ť': 1,\n",
       "             'd o': 8,\n",
       "             't y p u': 1,\n",
       "             't e c h n o l ó g i í': 1,\n",
       "             'a k': 3,\n",
       "             'c h c e m e': 1,\n",
       "             'z a i s t i ť': 1,\n",
       "             't a k t o': 1,\n",
       "             'ď a l e j': 1,\n",
       "             'n e p o k r a č o v a l o': 1,\n",
       "             'b u d e': 7,\n",
       "             'k o n a n i e': 1,\n",
       "             'z o': 2,\n",
       "             'v n ú t r o š t á t n y c h': 1,\n",
       "             'r e g u l a č n ý c h': 1,\n",
       "             'o r g á n o v': 2,\n",
       "             'h o s p o d á r s k e j': 1,\n",
       "             's ú ť a ž e': 1,\n",
       "             'd o s a h o v a n í': 1,\n",
       "             'p o č í t a m e': 1,\n",
       "             'n e u s t á l o u': 1,\n",
       "             'p o d p o r o u': 1,\n",
       "             'n l': 1,\n",
       "             'r á d': 3,\n",
       "             'p o č u j e m': 1,\n",
       "             'e x i s t u j e': 1,\n",
       "             'z h o d a': 1,\n",
       "             'h u m a n i t á r n e j': 1,\n",
       "             'ž i a d e n': 1,\n",
       "             'r o z u m n ý': 1,\n",
       "             'č l o v e k': 1,\n",
       "             's a m o z r e j m e': 2,\n",
       "             'n e p r o t e s t o v a l': 1,\n",
       "             'k r a j i n á m': 1,\n",
       "             'p o t r e b u j ú': 1,\n",
       "             'z h o d n e m e': 1,\n",
       "             'b u d ú c o m': 1,\n",
       "             'v ý v o j i': 1,\n",
       "             'č i e r n e j': 1,\n",
       "             'h o r y': 1,\n",
       "             'c e s t e': 1,\n",
       "             'ú n i i': 2,\n",
       "             'n e p r í p u s t n é': 1,\n",
       "             'p r e d l o ž i ť': 1,\n",
       "             'd n e s': 2,\n",
       "             's p r á v u': 3,\n",
       "             'o b h a j u j e': 1,\n",
       "             'v s t u p': 1,\n",
       "             'k o s o v a': 1,\n",
       "             'e ú': 2,\n",
       "             'z a l o ž e n i e': 1,\n",
       "             'ú p l n ý': 1,\n",
       "             'c h c e l': 3,\n",
       "             'v y s v e t l i ť': 1,\n",
       "             'p r e č o': 3,\n",
       "             'z á m e r n e': 1,\n",
       "             'd o h o d e': 2,\n",
       "             'f r a n c ú z s k y m': 1,\n",
       "             'p r e d s e d n í c t v o m': 2,\n",
       "             'o d v i e d l o': 1,\n",
       "             'v y n i k a j ú c u': 1,\n",
       "             'p r á c u': 2,\n",
       "             'n e f o r m á l n e': 1,\n",
       "             'z o s t a l': 1,\n",
       "             't é m e': 1,\n",
       "             'a u t o m o b i l o v': 1,\n",
       "             'u r ý c h l i l': 1,\n",
       "             'z a i s t e n i e': 1,\n",
       "             'd o s i a h n u t i a': 1,\n",
       "             't e j t o': 3,\n",
       "             'o b r a z n e': 1,\n",
       "             'v y j a d r e n é': 1,\n",
       "             'd u p o l': 1,\n",
       "             'p l y n': 1,\n",
       "             'i n a k': 1,\n",
       "             'v ý s l e d o k': 1,\n",
       "             'd n e š n é h o': 1,\n",
       "             'h l a s o v a n i a': 1,\n",
       "             'e m o c i o n á l n u': 1,\n",
       "             'r o v i n u': 1,\n",
       "             't i s í c k r á t': 1,\n",
       "             'v ď a k a': 1,\n",
       "             'g r a t u l u j e m': 1,\n",
       "             'v ý s l e d k u': 1,\n",
       "             'c h c e l a': 2,\n",
       "             'u v i e s ť': 1,\n",
       "             'p r i j a l a': 1,\n",
       "             'v e ľ a': 1,\n",
       "             'z a b e z p e č e n i e': 1,\n",
       "             'u d r ž a t e ľ n é h o': 1,\n",
       "             'r i a d e n i a': 1,\n",
       "             'o c h r a n y': 1,\n",
       "             'ž r a l o k o v': 1,\n",
       "             'v š e o b e c n o s t i': 1,\n",
       "             'n i e l e n': 1,\n",
       "             'o d s t r a ň o v a n i e': 1,\n",
       "             'p l u t i e v': 1,\n",
       "             'z d ô r a z n i ť': 1,\n",
       "             'v h o d n é': 1,\n",
       "             'z a p r a c o v a ť': 1,\n",
       "             'b u d ú c i c h': 1,\n",
       "             'n á v r h o v': 1,\n",
       "             'k o m i s i e': 2,\n",
       "             'p r u ž n é': 1,\n",
       "             'p o s k y t n u t i e': 1,\n",
       "             'p o ľ n o h o s p o d á r o m': 1,\n",
       "             'o b l a s t i a c h': 1,\n",
       "             'p o d': 2,\n",
       "             'v p l y v o m': 1,\n",
       "             'z n e v ý h o d n e n ý c h': 1,\n",
       "             'p r í r o d n ý c h': 1,\n",
       "             'p o d m i e n o k': 2,\n",
       "             'm a l o u': 1,\n",
       "             'r o z l o h o u': 1,\n",
       "             'n a c h á d z a j ú c i c h': 1,\n",
       "             'a d m i n i s t r a t í v n e h o': 1,\n",
       "             'h ľ a d i s k a': 2,\n",
       "             'j e d n o t k á c h': 1,\n",
       "             'n e s p ĺ ň a j ú': 1,\n",
       "             's t a n o v e n é': 1,\n",
       "             'k r i t é r i á': 1,\n",
       "             'd o v o ľ t e': 3,\n",
       "             'm i': 3,\n",
       "             'v y j a d r i ť': 1,\n",
       "             'f r a n c ú z s k e m u': 1,\n",
       "             'p r e d s e d n í c t v u': 1,\n",
       "             'm o j e': 1,\n",
       "             'u z n a n i e': 1,\n",
       "             'z a': 5,\n",
       "             'o r g a n i z o v a n i e': 1,\n",
       "             'k o n f e r e n c i e': 1,\n",
       "             'e u r ó p a': 1,\n",
       "             'a l z h e i m e r o v e j': 1,\n",
       "             'c h o r o b e': 1,\n",
       "             'a k t í v n u': 1,\n",
       "             'ú l o h u': 2,\n",
       "             'p r e d s e d n í c t v o': 1,\n",
       "             'p r e v z a l o': 1,\n",
       "             'm á m': 1,\n",
       "             'j e d n u': 1,\n",
       "             'o t á z k u': 1,\n",
       "             'n e m ô ž e m e': 2,\n",
       "             's ú h l a s i ť': 1,\n",
       "             'p o u ž i t o u': 1,\n",
       "             'm e t o d i k o u': 1,\n",
       "             'č a s o v ý m i': 1,\n",
       "             'š k á l a m i': 1,\n",
       "             'l i c h t e n b e r g e r o v á': 1,\n",
       "             'z á s a d e': 1,\n",
       "             's ú h l a s í m e': 1,\n",
       "             'o d v e t v i e': 1,\n",
       "             'l e t e c k e j': 2,\n",
       "             'd o p r a v y': 2,\n",
       "             'm a l o': 2,\n",
       "             'p r i s p i e ť': 1,\n",
       "             's v o j í m': 1,\n",
       "             'd i e l o m': 1,\n",
       "             'z m i e r n e n i u': 1,\n",
       "             'v p l y v u': 1,\n",
       "             'ž i v o t n é': 1,\n",
       "             'p r o s t r e d i e': 1,\n",
       "             't o t o': 2,\n",
       "             'o d p o r ú č a n i e': 1,\n",
       "             'r a d e': 2,\n",
       "             'p o s k y t n u t i a': 1,\n",
       "             'n a j v ä č š e j': 1,\n",
       "             'p r á v n e j': 1,\n",
       "             'i s t o t y': 1,\n",
       "             'p a c i e n t o m': 1,\n",
       "             'u p l a t ň o v a ť': 1,\n",
       "             's v o j e': 3,\n",
       "             'p r á v a': 3,\n",
       "             's ú v i s i a c e': 1,\n",
       "             'c e z h r a n i č n o u': 1,\n",
       "             'z d r a v o t n o u': 1,\n",
       "             's t a r o s t l i v o s ť o u': 1,\n",
       "             'p r a x i': 1,\n",
       "             'k o n š t a t o v a l': 1,\n",
       "             's ú d n y': 1,\n",
       "             'p r i s ť a h o v a l e c k í': 1,\n",
       "             'p r a c o v n í c i': 1,\n",
       "             't a k t i e ž': 1,\n",
       "             'm o ž n o s ť': 2,\n",
       "             'p r i v i e s ť': 1,\n",
       "             'r o d i n y': 2,\n",
       "             's k r á t e n é h o': 1,\n",
       "             'p o s t u p u': 1,\n",
       "             't ý m t o': 1,\n",
       "             's p ô s o b o m': 2,\n",
       "             'p o d p o r u j e': 2,\n",
       "             'z j e d n o t e n i e': 1,\n",
       "             'p o z a s t a v e n i a': 1,\n",
       "             'n a d': 1,\n",
       "             'a k ý': 1,\n",
       "             'r o z s i a h l y': 1,\n",
       "             'n e b e z p e č n ý': 1,\n",
       "             's k u t o č n o s t i': 1,\n",
       "             'p a p i e r': 1,\n",
       "             'b y ť': 2,\n",
       "             'v š e s t r a n n e': 1,\n",
       "             'u ž i t o č n ý': 1,\n",
       "             'n o': 3,\n",
       "             'č o r a z': 1,\n",
       "             'j a s n e j š i e': 1,\n",
       "             'p r e s t a l': 1,\n",
       "             'i n f o r m a t í v n y': 1,\n",
       "             'v i e t e': 1,\n",
       "             'p a r l a m e n t': 1,\n",
       "             'c h y s t á': 1,\n",
       "             'p r i j a ť': 1,\n",
       "             'u z n e s e n i e': 2,\n",
       "             'a c t a': 1,\n",
       "             'p r i č o m': 1,\n",
       "             'v y v o l á v a': 1,\n",
       "             'z n a č n é': 1,\n",
       "             'n e p o k o j e': 2,\n",
       "             'm e d z i': 2,\n",
       "             'n a š i m i': 1,\n",
       "             'o b č a n m i': 1,\n",
       "             'z ď a l e k a': 1,\n",
       "             'n e p a n u j e': 1,\n",
       "             'j e d n o z n a č n ý': 1,\n",
       "             's ú h l a s n ý': 1,\n",
       "             'n á z o r': 1,\n",
       "             'p o m o h l o': 1,\n",
       "             'o d': 1,\n",
       "             'v y j e d n á v a č o v': 1,\n",
       "             'u s a': 1,\n",
       "             'j a s n ú': 1,\n",
       "             'o d p o v e ď': 1,\n",
       "             'd v o m': 1,\n",
       "             'b o d o m': 1,\n",
       "             'm n o h í': 1,\n",
       "             'p o p r e d n ý c h': 1,\n",
       "             'v l á d n y c h': 1,\n",
       "             'p r e d s t a v i t e ľ o v': 1,\n",
       "             'n e z v e s t n í': 1,\n",
       "             'z d ô r a z ň u j e': 1,\n",
       "             'd ô l e ž i t o s ť': 1,\n",
       "             'k o l e k t í v n e h o': 1,\n",
       "             'v y j e d n á v a n i a': 1,\n",
       "             'b o j i': 1,\n",
       "             'd i s k r i m i n á c i i': 1,\n",
       "             'p r í s t u p u': 1,\n",
       "             'z a m e s t n a n i u': 1,\n",
       "             'p l a t o v': 1,\n",
       "             'p r a c o v n ý c h': 2,\n",
       "             'k a r i é r y': 1,\n",
       "             'p r o f e s i j n é h o': 1,\n",
       "             'v z d e l á v a n i a': 1,\n",
       "             'č í n a': 1,\n",
       "             'z a c h o v a l a': 1,\n",
       "             'k u l t ú r n e': 1,\n",
       "             't r a d í c i e': 1,\n",
       "             'h o d n o t y': 1,\n",
       "             'v y u ž i ť': 1,\n",
       "             'z d o k o n a l i ť': 1,\n",
       "             'c e l ý': 1,\n",
       "             'v ý v o j o v ý': 1,\n",
       "             'p o t e n c i á l': 1,\n",
       "             'v z h ľ a d o m': 1,\n",
       "             'a ž': 2,\n",
       "             'm i n u l é h o': 1,\n",
       "             'p o l i t i c k í': 1,\n",
       "             'z á s t a n c o v i a': 1,\n",
       "             'd e r e g u l á c i e': 1,\n",
       "             'p r o p a g á t o r i': 1,\n",
       "             'v l á d n e j': 1,\n",
       "             'r e g u l á c i e': 1,\n",
       "             'v y c h v a ľ o v a l i': 1,\n",
       "             's t a v o m': 1,\n",
       "             'h o s p o d á r s t v a': 2,\n",
       "             'p r i p o m e n ú ť': 1,\n",
       "             't i e t o': 1,\n",
       "             'p o l i t i k y': 3,\n",
       "             'v y ú s t i l i': 1,\n",
       "             'v e ľ k e j': 1,\n",
       "             'c h u d o b y': 1,\n",
       "             'n e r o v n o s t i': 1,\n",
       "             'z á p o r n e j': 1,\n",
       "             'm i e r y': 1,\n",
       "             'r a s t u': 1,\n",
       "             'o b o h a c o v a n i a': 1,\n",
       "             'p o t r a v i n á r s k y c h': 1,\n",
       "             's p o l o č n o s t í': 2,\n",
       "             'd o s i a h l i': 1,\n",
       "             'z i s k': 1,\n",
       "             'm i l i á r d': 1,\n",
       "             's k l a m a n á': 1,\n",
       "             's p o l o č n e': 1,\n",
       "             'd o h o d n u t ý': 1,\n",
       "             't e x t': 1,\n",
       "             's c h v á l i l i': 1,\n",
       "             'p o s l a n c i': 2,\n",
       "             'i': 35,\n",
       "             'p a r l a m e n t o v': 1,\n",
       "             'k r a j í n': 3,\n",
       "             'a k t': 2,\n",
       "             'z a s a d a n i a c h': 1,\n",
       "             'k i g a l i': 1,\n",
       "             'š t r a s b u r g u': 1,\n",
       "             'n á h l e': 1,\n",
       "             'o d m i e t n u t é': 1,\n",
       "             's k u p i n o u': 2,\n",
       "             'p p e': 1,\n",
       "             'l i b e r á l o v': 1,\n",
       "             'n e j': 1,\n",
       "             'j e s e ň': 1,\n",
       "             'p o l í c i a': 1,\n",
       "             'p o k y n o v': 1,\n",
       "             'v l á d y': 1,\n",
       "             'z r a n i l a': 1,\n",
       "             'u v ä z n i l a': 1,\n",
       "             'p o d r o b i l a': 1,\n",
       "             'f a l o š n é m u': 1,\n",
       "             't r e s t n é m u': 1,\n",
       "             'k o n a n i u': 1,\n",
       "             'n i e k o ľ k o': 1,\n",
       "             's t o v i e k': 1,\n",
       "             'm i e r u m i l o v n ý c h': 1,\n",
       "             'c h o d c o v': 1,\n",
       "             'd e m o n š t r a n t o v': 1,\n",
       "             'k t o r í': 1,\n",
       "             'p r i p o m í n a l i': 1,\n",
       "             'v ý z n a m n ú': 1,\n",
       "             'u d a l o s ť': 1,\n",
       "             'z á r o v e ň': 1,\n",
       "             's t o t o ž ň u j e m': 2,\n",
       "             'n á z o r o m': 1,\n",
       "             'n e m a l i': 1,\n",
       "             'v y s t a v i ť': 1,\n",
       "             'r i z i k u': 1,\n",
       "             'v y s t ú p i a': 1,\n",
       "             's c h é m y': 1,\n",
       "             's k': 2,\n",
       "             'k e ď': 2,\n",
       "             'o s l a v u j e m e': 1,\n",
       "             'v ý r o č i e': 1,\n",
       "             'e u r a': 1,\n",
       "             'j a n u á r a': 1,\n",
       "             's l o v e n s k o': 1,\n",
       "             's t a l o': 1,\n",
       "             'č l e n o m': 1,\n",
       "             'e u r o z ó n y': 1,\n",
       "             'p r v é': 1,\n",
       "             'z n e p o k o j e n í': 1,\n",
       "             'd ô s l e d k a m i': 1,\n",
       "             's ú d n e h o': 1,\n",
       "             'p r o c e s u': 1,\n",
       "             's t r a n e': 1,\n",
       "             'n o v ý': 1,\n",
       "             'š t a t ú t': 1,\n",
       "             'p o s l a n c o v': 2,\n",
       "             'p r a c o v a l i': 1,\n",
       "             'm n o h o': 1,\n",
       "             'v s t ú p i': 1,\n",
       "             'p l a t n o s t i': 1,\n",
       "             'n o v o m': 1,\n",
       "             'v o l e b n o m': 1,\n",
       "             'o b d o b í': 1,\n",
       "             'v y z ý v a m e': 1,\n",
       "             'k a m b o d ž s k é': 1,\n",
       "             'o r g á n y': 1,\n",
       "             'v y k o n a l i': 1,\n",
       "             'o d p o r ú č a n i a': 1,\n",
       "             'o s o b i t n é h o': 1,\n",
       "             's p r a v o d a j c u': 1,\n",
       "             'o s n': 1,\n",
       "             'ľ u d s k é': 1,\n",
       "             'k a m b o d ž i': 1,\n",
       "             'n a j m e n e j': 1,\n",
       "             'p i a t i': 1,\n",
       "             'ľ u d i a': 2,\n",
       "             'z o m r e l i': 1,\n",
       "             's t o v k y': 1,\n",
       "             'z r a n e n ý c h': 1,\n",
       "             't v r d í': 1,\n",
       "             'v e r e j n é': 1,\n",
       "             'z d r a v i e': 1,\n",
       "             'n e v y h n u t n é': 1,\n",
       "             's p o l o č n é': 1,\n",
       "             'd o b r o': 1,\n",
       "             't e r a z': 1,\n",
       "             'p r e j s ť': 1,\n",
       "             'n i e k t o r ý m': 1,\n",
       "             'z á l e ž i t o s t i a m': 1,\n",
       "             'o t v o r i l i': 1,\n",
       "             'n á v r h u': 2,\n",
       "             'u z n e s e n i a': 1,\n",
       "             's p o m í n a l i': 1,\n",
       "             's p r á v e': 1,\n",
       "             'p r e s n e': 1,\n",
       "             't a k': 1,\n",
       "             'p r í p a d e': 1,\n",
       "             'z á p l a v': 1,\n",
       "             'p r e s k ú m a ť': 1,\n",
       "             'p r i j a t i a': 1,\n",
       "             's m e r n i c e': 1,\n",
       "             'o c h r a n e': 1,\n",
       "             'p r e d': 1,\n",
       "             'r i z i k o m': 1,\n",
       "             'v z n i k u': 1,\n",
       "             'p o ž i a r o v': 1,\n",
       "             'v ý b o r': 1,\n",
       "             'n a v r h o l': 1,\n",
       "             'r e ž i m': 1,\n",
       "             ...})"
      ]
     },
     "execution_count": 32,
     "metadata": {},
     "output_type": "execute_result"
    }
   ],
   "source": [
    "vocab = get_vocab(sentences_train)\n",
    "vocab"
   ]
  },
  {
   "cell_type": "code",
   "execution_count": 34,
   "metadata": {
    "ExecuteTime": {
     "end_time": "2020-02-21T15:08:23.046799Z",
     "start_time": "2020-02-21T15:08:22.512182Z"
    }
   },
   "outputs": [],
   "source": [
    "#taken from https://arxiv.org/abs/1508.07909\n",
    "for i in range(100):\n",
    "    pairs = get_stats(vocab)\n",
    "    best = max(pairs, key=pairs.get) \n",
    "    vocab = merge_vocab(best, vocab)"
   ]
  },
  {
   "cell_type": "code",
   "execution_count": 35,
   "metadata": {
    "ExecuteTime": {
     "end_time": "2020-02-21T15:08:35.050453Z",
     "start_time": "2020-02-21T15:08:35.018188Z"
    }
   },
   "outputs": [],
   "source": [
    "merges = defaultdict(int)\n",
    "for k, v in vocab.items():\n",
    "    for subword in k.split():\n",
    "        if len(subword) >= 2:\n",
    "            merges[subword] += v"
   ]
  },
  {
   "cell_type": "code",
   "execution_count": 36,
   "metadata": {
    "ExecuteTime": {
     "end_time": "2020-02-21T15:48:55.818520Z",
     "start_time": "2020-02-21T15:48:55.815608Z"
    }
   },
   "outputs": [],
   "source": [
    "merge_ordered = sorted(merges, key=merges.get, reverse=True)"
   ]
  },
  {
   "cell_type": "code",
   "execution_count": 37,
   "metadata": {},
   "outputs": [],
   "source": [
    "pkl.dump(merge_ordered, open('Data/Auxiliary/merge_ordered.pkl', 'wb'))"
   ]
  },
  {
   "cell_type": "code",
   "execution_count": 38,
   "metadata": {
    "ExecuteTime": {
     "end_time": "2020-02-21T16:00:58.478086Z",
     "start_time": "2020-02-21T16:00:58.474166Z"
    }
   },
   "outputs": [],
   "source": [
    "def split_into_subwords(text):\n",
    "    merges = pkl.load(open('Data/Auxiliary/merge_ordered.pkl', 'rb'))\n",
    "    subwords = []\n",
    "    for word in text.split():\n",
    "        for subword in merges:\n",
    "            subword_count = word.count(subword)\n",
    "            if subword_count > 0:\n",
    "                word = word.replace(subword, ' ')\n",
    "                subwords.extend([subword]*subword_count)\n",
    "    return ' '.join(subwords)"
   ]
  },
  {
   "cell_type": "code",
   "execution_count": 39,
   "metadata": {
    "ExecuteTime": {
     "end_time": "2020-02-21T16:00:58.872196Z",
     "start_time": "2020-02-21T16:00:58.868568Z"
    }
   },
   "outputs": [
    {
     "data": {
      "text/plain": [
       "'is th is ar re'"
      ]
     },
     "execution_count": 39,
     "metadata": {},
     "output_type": "execute_result"
    }
   ],
   "source": [
    "split_into_subwords('this is ari here')"
   ]
  },
  {
   "cell_type": "code",
   "execution_count": 40,
   "metadata": {},
   "outputs": [],
   "source": [
    "data_preprocessed_subwords = {k: [split_into_subwords(sentence) for sentence in v] for k, v in data_preprocessed.items()}"
   ]
  },
  {
   "cell_type": "code",
   "execution_count": 41,
   "metadata": {
    "ExecuteTime": {
     "end_time": "2020-02-21T17:03:18.258270Z",
     "start_time": "2020-02-21T17:03:18.254862Z"
    }
   },
   "outputs": [
    {
     "name": "stdout",
     "output_type": "stream",
     "text": [
      "Language: sk\n",
      "-----------------------\n",
      "Number of sentences\t:\t 100\n",
      "Number of words\t\t:\t 3944\n",
      "Number of unique words\t:\t 118\n",
      "Sample extract\t\t:\t deandealasneas...\n",
      "\n",
      "Language: cs\n",
      "-----------------------\n",
      "Number of sentences\t:\t 10\n",
      "Number of words\t\t:\t 288\n",
      "Number of unique words\t:\t 85\n",
      "Sample extract\t\t:\t pomeorježejeím...\n",
      "\n",
      "Language: en\n",
      "-----------------------\n",
      "Number of sentences\t:\t 100\n",
      "Number of words\t\t:\t 4242\n",
      "Number of unique words\t:\t 104\n",
      "Sample extract\t\t:\t anstanerunouro...\n",
      "\n"
     ]
    }
   ],
   "source": [
    "show_statistics(data_preprocessed_subwords)"
   ]
  },
  {
   "cell_type": "code",
   "execution_count": 42,
   "metadata": {
    "ExecuteTime": {
     "end_time": "2020-02-21T17:03:45.654014Z",
     "start_time": "2020-02-21T17:03:45.245540Z"
    }
   },
   "outputs": [],
   "source": [
    "data_train_subwords = []\n",
    "for sentence in sentences_train:\n",
    "    data_train_subwords.append(split_into_subwords(sentence))"
   ]
  },
  {
   "cell_type": "code",
   "execution_count": 43,
   "metadata": {
    "ExecuteTime": {
     "end_time": "2020-02-21T17:03:47.710148Z",
     "start_time": "2020-02-21T17:03:47.400758Z"
    }
   },
   "outputs": [],
   "source": [
    "data_val_subwords = []\n",
    "for sentence in sentences_val:\n",
    "    data_val_subwords.append(split_into_subwords(sentence))"
   ]
  },
  {
   "cell_type": "code",
   "execution_count": 44,
   "metadata": {},
   "outputs": [],
   "source": [
    "vectorizer = CountVectorizer()"
   ]
  },
  {
   "cell_type": "code",
   "execution_count": 45,
   "metadata": {},
   "outputs": [],
   "source": [
    "X_train = vectorizer.fit_transform(data_train_subwords)\n",
    "X_val = vectorizer.transform(data_val_subwords)"
   ]
  },
  {
   "cell_type": "code",
   "execution_count": 46,
   "metadata": {},
   "outputs": [
    {
     "data": {
      "text/plain": [
       "MultinomialNB(fit_prior=False)"
      ]
     },
     "execution_count": 46,
     "metadata": {},
     "output_type": "execute_result"
    }
   ],
   "source": [
    "naive_classifier = MultinomialNB(fit_prior=False)\n",
    "naive_classifier.fit(X_train, y_train)"
   ]
  },
  {
   "cell_type": "code",
   "execution_count": 47,
   "metadata": {},
   "outputs": [],
   "source": [
    "predictions = naive_classifier.predict(X_val)"
   ]
  },
  {
   "cell_type": "code",
   "execution_count": 48,
   "metadata": {},
   "outputs": [
    {
     "data": {
      "image/png": "[encoded data removed]",
      "text/plain": [
       "<Figure size 360x360 with 2 Axes>"
      ]
     },
     "metadata": {
      "needs_background": "light"
     },
     "output_type": "display_data"
    }
   ],
   "source": [
    "plot_confusion_matrix(y_val, predictions, ['sk', 'cs', 'en'])"
   ]
  },
  {
   "cell_type": "code",
   "execution_count": 49,
   "metadata": {},
   "outputs": [
    {
     "data": {
      "text/plain": [
       "0.8498835662364773"
      ]
     },
     "execution_count": 49,
     "metadata": {},
     "output_type": "execute_result"
    }
   ],
   "source": [
    "f1_score(y_val, predictions, average='weighted')"
   ]
  },
  {
   "cell_type": "markdown",
   "metadata": {},
   "source": [
    "# Saving naive classifier model and vectorizer model"
   ]
  },
  {
   "cell_type": "code",
   "execution_count": 50,
   "metadata": {},
   "outputs": [
    {
     "data": {
      "text/plain": [
       "['Data/Models/final_model.pkl']"
      ]
     },
     "execution_count": 50,
     "metadata": {},
     "output_type": "execute_result"
    }
   ],
   "source": [
    "joblib.dump(naive_classifier,'Data/Models/final_model.pkl')"
   ]
  },
  {
   "cell_type": "code",
   "execution_count": 51,
   "metadata": {},
   "outputs": [
    {
     "data": {
      "text/plain": [
       "['Data/Vectorizers/final_model.pkl']"
      ]
     },
     "execution_count": 51,
     "metadata": {},
     "output_type": "execute_result"
    }
   ],
   "source": [
    "joblib.dump(vectorizer,'Data/Vectorizers/final_model.pkl')"
   ]
  },
  {
   "cell_type": "code",
   "execution_count": null,
   "metadata": {},
   "outputs": [],
   "source": []
  }
 ],
 "metadata": {
  "kernelspec": {
   "display_name": "Python 3 (ipykernel)",
   "language": "python",
   "name": "python3"
  },
  "language_info": {
   "codemirror_mode": {
    "name": "ipython",
    "version": 3
   },
   "file_extension": ".py",
   "mimetype": "text/x-python",
   "name": "python",
   "nbconvert_exporter": "python",
   "pygments_lexer": "ipython3",
   "version": "3.9.12"
  }
 },
 "nbformat": 4,
 "nbformat_minor": 4
}
